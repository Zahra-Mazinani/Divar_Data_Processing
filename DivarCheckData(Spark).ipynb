{
  "nbformat": 4,
  "nbformat_minor": 0,
  "metadata": {
    "colab": {
      "name": "DivarCheckData(Spark).ipynb",
      "provenance": [],
      "collapsed_sections": []
    },
    "kernelspec": {
      "name": "python3",
      "display_name": "Python 3"
    },
    "language_info": {
      "name": "python"
    }
  },
  "cells": [
    {
      "cell_type": "markdown",
      "source": [
        "in the name of Allah"
      ],
      "metadata": {
        "id": "fit1PDvTp3Re"
      }
    },
    {
      "cell_type": "code",
      "source": [
        "!pip install pyspark\n",
        "from pyspark.sql import SparkSession\n",
        "import pandas as pd\n",
        "import numpy as np"
      ],
      "metadata": {
        "id": "wRvaj_JTtXsP",
        "colab": {
          "base_uri": "https://localhost:8080/"
        },
        "outputId": "d830d18e-896c-472b-8d0e-1678a2212cad"
      },
      "execution_count": null,
      "outputs": [
        {
          "output_type": "stream",
          "name": "stdout",
          "text": [
            "Requirement already satisfied: pyspark in /usr/local/lib/python3.7/dist-packages (3.2.0)\n",
            "Requirement already satisfied: py4j==0.10.9.2 in /usr/local/lib/python3.7/dist-packages (from pyspark) (0.10.9.2)\n"
          ]
        }
      ]
    },
    {
      "cell_type": "code",
      "execution_count": null,
      "metadata": {
        "id": "GntEffVKJTRq",
        "colab": {
          "base_uri": "https://localhost:8080/"
        },
        "outputId": "bf6726ad-96a6-4ab7-b49f-27443aeaa452"
      },
      "outputs": [
        {
          "output_type": "stream",
          "name": "stdout",
          "text": [
            "Drive already mounted at /content/drive; to attempt to forcibly remount, call drive.mount(\"/content/drive\", force_remount=True).\n",
            "Archive:  /content/drive/MyDrive/Colab Notebooks/Divar/DMC-phase1-DataSets-20211225T055615Z-001.zip\n",
            "replace DMC-phase1-DataSets/reject_reasons_info.csv? [y]es, [n]o, [A]ll, [N]one, [r]ename: n\n",
            "replace DMC-phase1-DataSets/DMC-Phase1-Validation.parquet? [y]es, [n]o, [A]ll, [N]one, [r]ename: n\n",
            "replace DMC-phase1-DataSets/DMC-Train.parquet? [y]es, [n]o, [A]ll, [N]one, [r]ename: n\n"
          ]
        }
      ],
      "source": [
        "from google.colab import drive\n",
        "drive.mount('/content/drive')\n",
        "!unzip \"/content/drive/MyDrive/Colab Notebooks/Divar/DMC-phase1-DataSets-20211225T055615Z-001.zip\" "
      ]
    },
    {
      "cell_type": "code",
      "source": [
        "path = \"/content/DMC-phase1-DataSets\""
      ],
      "metadata": {
        "id": "x2uoNk9QBLNL"
      },
      "execution_count": null,
      "outputs": []
    },
    {
      "cell_type": "code",
      "source": [
        "spark = SparkSession.builder.appName('Practise').getOrCreate()"
      ],
      "metadata": {
        "id": "zPu4oMUXypZ2"
      },
      "execution_count": null,
      "outputs": []
    },
    {
      "cell_type": "code",
      "source": [
        "df = spark.read.parquet(path + '/DMC-Train.parquet')"
      ],
      "metadata": {
        "id": "COwRRo5GrJNh"
      },
      "execution_count": null,
      "outputs": []
    },
    {
      "cell_type": "code",
      "source": [
        "df.show()"
      ],
      "metadata": {
        "colab": {
          "base_uri": "https://localhost:8080/"
        },
        "id": "gN_6xgDAsRzM",
        "outputId": "6449d175-5535-4402-9721-5c839f02e421"
      },
      "execution_count": null,
      "outputs": [
        {
          "output_type": "stream",
          "name": "stdout",
          "text": [
            "+--------------------+--------------------+------------+----------------+\n",
            "|             post_id|           post_data|review_label|reject_reason_id|\n",
            "+--------------------+--------------------+------------+----------------+\n",
            "|cb000599-2ee2-42c...|{\"body_status\": \"...|      accept|               0|\n",
            "|12063741-6634-444...|{\"body_status\": \"...|      reject|              13|\n",
            "|81c93119-5c06-412...|{\"body_status\": \"...|      accept|               0|\n",
            "|b5a5bfa7-03be-408...|{\"brand\": \"\\u0633...|      accept|               0|\n",
            "|3414e920-dfaf-44a...|{\"body_status\": \"...|      reject|              12|\n",
            "|10aa8a3b-e465-45c...|{\"body_status\": \"...|      reject|              12|\n",
            "|79f05181-ddfd-44b...|{\"body_status\": \"...|      accept|               0|\n",
            "|3845f74f-6731-44f...|{\"body_status\": \"...|      accept|               0|\n",
            "|6fdbdc90-dc85-49e...|{\"body_status\": \"...|      reject|             139|\n",
            "|c8ba52f7-7025-4f8...|{\"body_status\": \"...|      accept|               0|\n",
            "|58af8fd6-3ef9-483...|{\"body_status\": \"...|      accept|               0|\n",
            "|389f6987-8cb8-48a...|{\"body_status\": \"...|      accept|               0|\n",
            "|07e64f4a-9767-435...|{\"brand\": \"\\u067e...|      accept|               0|\n",
            "|df968fd4-fb04-427...|{\"body_status\": \"...|      accept|               0|\n",
            "|301684eb-b556-482...|{\"body_status\": \"...|      accept|               0|\n",
            "|b137d6ff-3fba-4e5...|{\"body_status\": \"...|      accept|               0|\n",
            "|fcc111a3-82ff-40c...|{\"brand\": \"\\u067e...|      accept|               0|\n",
            "|716d0337-839c-474...|{\"body_status\": \"...|      reject|             139|\n",
            "|728014c8-dcda-467...|{\"body_status\": \"...|      accept|               0|\n",
            "|12ac0f92-da74-4dd...|{\"body_status\": \"...|      accept|               0|\n",
            "+--------------------+--------------------+------------+----------------+\n",
            "only showing top 20 rows\n",
            "\n"
          ]
        }
      ]
    },
    {
      "cell_type": "markdown",
      "source": [
        "\n",
        "_______________________________________\n",
        "*   should change accept->true or 1\n",
        "\n",
        "*   should change reject->false or 0\n",
        "\n",
        "*   delete last column\n",
        "\n",
        "*   maybe change id too\n",
        "_______________________________________\n"
      ],
      "metadata": {
        "id": "ctq82DByvFj7"
      }
    },
    {
      "cell_type": "code",
      "source": [
        "df.printSchema()"
      ],
      "metadata": {
        "colab": {
          "base_uri": "https://localhost:8080/"
        },
        "id": "oZ_dBPN2u2Q3",
        "outputId": "b33dbd2c-3bb8-4ed3-abe9-033eef5569bd"
      },
      "execution_count": null,
      "outputs": [
        {
          "output_type": "stream",
          "name": "stdout",
          "text": [
            "root\n",
            " |-- post_id: string (nullable = true)\n",
            " |-- post_data: string (nullable = true)\n",
            " |-- review_label: string (nullable = true)\n",
            " |-- reject_reason_id: integer (nullable = true)\n",
            "\n"
          ]
        }
      ]
    },
    {
      "cell_type": "code",
      "source": [
        "df.head()"
      ],
      "metadata": {
        "colab": {
          "base_uri": "https://localhost:8080/"
        },
        "id": "ft6mkvqyvB-O",
        "outputId": "0a5788ec-1d90-4b37-d639-deab3377c24f"
      },
      "execution_count": null,
      "outputs": [
        {
          "output_type": "execute_result",
          "data": {
            "text/plain": [
              "Row(post_id='cb000599-2ee2-42c1-9f0e-32cfeb940398', post_data='{\"body_status\": \"witout-color\", \"brand\": \"\\\\u062a\\\\u06cc\\\\u0628\\\\u0627::Tiba\", \"brand_model\": \"Tiba Sedan SX\", \"category\": \"light\", \"color\": \"\\\\u0633\\\\u0641\\\\u06cc\\\\u062f\", \"description\": \"\\\\u0628\\\\u062f\\\\u0648\\\\u0646 \\\\u0631\\\\u0646\\\\u06af\\\\u060c\\\\u06a9\\\\u0645 \\\\u06a9\\\\u0627\\\\u0631\\\\u06a9\\\\u0631\\\\u062f\", \"document\": \"single-sheet\", \"gearbox\": \"manual\", \"new_price\": 103000000, \"post_type\": \"\\\\u0641\\\\u0631\\\\u0648\\\\u0634\\\\u06cc\", \"selling_type\": \"cash\", \"third_party_insurance_deadline\": \"5\", \"title\": \"\\\\u062a\\\\u06cc\\\\u0628\\\\u0627 \\\\u0635\\\\u0646\\\\u062f\\\\u0648\\\\u0642\\\\u200c\\\\u062f\\\\u0627\\\\u0631 SX\\\\u060c \\\\u0645\\\\u062f\\\\u0644 \\\\u06f1\\\\u06f3\\\\u06f9\\\\u06f7\", \"usage\": 23000, \"year\": \"\\\\u06f1\\\\u06f3\\\\u06f9\\\\u06f7\"}', review_label='accept', reject_reason_id=0)"
            ]
          },
          "metadata": {},
          "execution_count": 81
        }
      ]
    },
    {
      "cell_type": "code",
      "source": [
        "df.count()"
      ],
      "metadata": {
        "colab": {
          "base_uri": "https://localhost:8080/"
        },
        "id": "_SPP10Hxx-ru",
        "outputId": "82e67660-b4e2-43db-adbb-1aad0745307e"
      },
      "execution_count": null,
      "outputs": [
        {
          "output_type": "execute_result",
          "data": {
            "text/plain": [
              "540362"
            ]
          },
          "metadata": {},
          "execution_count": 82
        }
      ]
    },
    {
      "cell_type": "code",
      "source": [
        "df = df.drop(\"reject_reason_id\")"
      ],
      "metadata": {
        "id": "ca7jMaNvF_Kp"
      },
      "execution_count": null,
      "outputs": []
    },
    {
      "cell_type": "code",
      "source": [
        "df.show()"
      ],
      "metadata": {
        "colab": {
          "base_uri": "https://localhost:8080/"
        },
        "id": "OSCyPvJfGDdp",
        "outputId": "1b69119b-9686-4a0e-8e02-51ef0646f986"
      },
      "execution_count": null,
      "outputs": [
        {
          "output_type": "stream",
          "name": "stdout",
          "text": [
            "+--------------------+--------------------+------------+\n",
            "|             post_id|           post_data|review_label|\n",
            "+--------------------+--------------------+------------+\n",
            "|cb000599-2ee2-42c...|{\"body_status\": \"...|      accept|\n",
            "|12063741-6634-444...|{\"body_status\": \"...|      reject|\n",
            "|81c93119-5c06-412...|{\"body_status\": \"...|      accept|\n",
            "|b5a5bfa7-03be-408...|{\"brand\": \"\\u0633...|      accept|\n",
            "|3414e920-dfaf-44a...|{\"body_status\": \"...|      reject|\n",
            "|10aa8a3b-e465-45c...|{\"body_status\": \"...|      reject|\n",
            "|79f05181-ddfd-44b...|{\"body_status\": \"...|      accept|\n",
            "|3845f74f-6731-44f...|{\"body_status\": \"...|      accept|\n",
            "|6fdbdc90-dc85-49e...|{\"body_status\": \"...|      reject|\n",
            "|c8ba52f7-7025-4f8...|{\"body_status\": \"...|      accept|\n",
            "|58af8fd6-3ef9-483...|{\"body_status\": \"...|      accept|\n",
            "|389f6987-8cb8-48a...|{\"body_status\": \"...|      accept|\n",
            "|07e64f4a-9767-435...|{\"brand\": \"\\u067e...|      accept|\n",
            "|df968fd4-fb04-427...|{\"body_status\": \"...|      accept|\n",
            "|301684eb-b556-482...|{\"body_status\": \"...|      accept|\n",
            "|b137d6ff-3fba-4e5...|{\"body_status\": \"...|      accept|\n",
            "|fcc111a3-82ff-40c...|{\"brand\": \"\\u067e...|      accept|\n",
            "|716d0337-839c-474...|{\"body_status\": \"...|      reject|\n",
            "|728014c8-dcda-467...|{\"body_status\": \"...|      accept|\n",
            "|12ac0f92-da74-4dd...|{\"body_status\": \"...|      accept|\n",
            "+--------------------+--------------------+------------+\n",
            "only showing top 20 rows\n",
            "\n"
          ]
        }
      ]
    },
    {
      "cell_type": "code",
      "source": [
        "from pyspark.sql.functions import when\n",
        "df.withColumn(\"review_label\", when(df.review_label == \"accept\",\"true\")\\\n",
        "      .when(df.review_label == \"reject\",\"false\")).show()"
      ],
      "metadata": {
        "colab": {
          "base_uri": "https://localhost:8080/"
        },
        "id": "tCF_S-ROGe0C",
        "outputId": "9fe2060f-a41d-4d6f-a0ec-cd0431f2b47f"
      },
      "execution_count": null,
      "outputs": [
        {
          "output_type": "stream",
          "name": "stdout",
          "text": [
            "+--------------------+--------------------+------------+\n",
            "|             post_id|           post_data|review_label|\n",
            "+--------------------+--------------------+------------+\n",
            "|cb000599-2ee2-42c...|{\"body_status\": \"...|        true|\n",
            "|12063741-6634-444...|{\"body_status\": \"...|       false|\n",
            "|81c93119-5c06-412...|{\"body_status\": \"...|        true|\n",
            "|b5a5bfa7-03be-408...|{\"brand\": \"\\u0633...|        true|\n",
            "|3414e920-dfaf-44a...|{\"body_status\": \"...|       false|\n",
            "|10aa8a3b-e465-45c...|{\"body_status\": \"...|       false|\n",
            "|79f05181-ddfd-44b...|{\"body_status\": \"...|        true|\n",
            "|3845f74f-6731-44f...|{\"body_status\": \"...|        true|\n",
            "|6fdbdc90-dc85-49e...|{\"body_status\": \"...|       false|\n",
            "|c8ba52f7-7025-4f8...|{\"body_status\": \"...|        true|\n",
            "|58af8fd6-3ef9-483...|{\"body_status\": \"...|        true|\n",
            "|389f6987-8cb8-48a...|{\"body_status\": \"...|        true|\n",
            "|07e64f4a-9767-435...|{\"brand\": \"\\u067e...|        true|\n",
            "|df968fd4-fb04-427...|{\"body_status\": \"...|        true|\n",
            "|301684eb-b556-482...|{\"body_status\": \"...|        true|\n",
            "|b137d6ff-3fba-4e5...|{\"body_status\": \"...|        true|\n",
            "|fcc111a3-82ff-40c...|{\"brand\": \"\\u067e...|        true|\n",
            "|716d0337-839c-474...|{\"body_status\": \"...|       false|\n",
            "|728014c8-dcda-467...|{\"body_status\": \"...|        true|\n",
            "|12ac0f92-da74-4dd...|{\"body_status\": \"...|        true|\n",
            "+--------------------+--------------------+------------+\n",
            "only showing top 20 rows\n",
            "\n"
          ]
        }
      ]
    },
    {
      "cell_type": "code",
      "source": [
        "spark.stop()"
      ],
      "metadata": {
        "id": "hSLZfQNhSo_T"
      },
      "execution_count": null,
      "outputs": []
    }
  ]
}