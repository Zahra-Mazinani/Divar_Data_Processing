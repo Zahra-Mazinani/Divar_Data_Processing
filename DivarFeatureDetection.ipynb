{
  "nbformat": 4,
  "nbformat_minor": 0,
  "metadata": {
    "colab": {
      "name": "DivarFeatureDetection.ipynb",
      "provenance": [],
      "collapsed_sections": []
    },
    "kernelspec": {
      "name": "python3",
      "display_name": "Python 3"
    },
    "language_info": {
      "name": "python"
    }
  },
  "cells": [
    {
      "cell_type": "markdown",
      "source": [
        "In the name of Allah"
      ],
      "metadata": {
        "id": "g7nBInE4cWhe"
      }
    },
    {
      "cell_type": "code",
      "execution_count": null,
      "metadata": {
        "colab": {
          "base_uri": "https://localhost:8080/"
        },
        "id": "CAyRgn2tcLIp",
        "outputId": "6f9ea4d1-14d2-4bee-ab16-73ecce215271"
      },
      "outputs": [
        {
          "output_type": "stream",
          "name": "stdout",
          "text": [
            "Requirement already satisfied: pyspark in /usr/local/lib/python3.7/dist-packages (3.2.0)\n",
            "Requirement already satisfied: py4j==0.10.9.2 in /usr/local/lib/python3.7/dist-packages (from pyspark) (0.10.9.2)\n"
          ]
        }
      ],
      "source": [
        "!pip install pyspark\n",
        "from pyspark.sql import SparkSession\n",
        "from pyspark.sql.functions import *\n",
        "from pyspark.sql.types import StructType,StructField, StringType\n",
        "import pandas as pd\n",
        "import numpy as np"
      ]
    },
    {
      "cell_type": "code",
      "source": [
        "from google.colab import drive\n",
        "drive.mount('/content/drive')\n",
        "!unzip \"/content/drive/MyDrive/Colab Notebooks/Divar/DMC-phase1-DataSets-20211225T055615Z-001.zip\" \n",
        "\n",
        "path = \"/content/DMC-phase1-DataSets\""
      ],
      "metadata": {
        "colab": {
          "base_uri": "https://localhost:8080/"
        },
        "id": "4pBF6hXVcfwv",
        "outputId": "e3b1f81c-68f4-4d90-99d0-18386afbed80"
      },
      "execution_count": null,
      "outputs": [
        {
          "output_type": "stream",
          "name": "stdout",
          "text": [
            "Mounted at /content/drive\n",
            "Archive:  /content/drive/MyDrive/Colab Notebooks/Divar/DMC-phase1-DataSets-20211225T055615Z-001.zip\n",
            "  inflating: DMC-phase1-DataSets/reject_reasons_info.csv  \n",
            "  inflating: DMC-phase1-DataSets/DMC-Phase1-Validation.parquet  \n",
            "  inflating: DMC-phase1-DataSets/DMC-Train.parquet  \n"
          ]
        }
      ]
    },
    {
      "cell_type": "code",
      "source": [
        "spark = SparkSession.builder.appName('Divar').getOrCreate()\n",
        "\n",
        "df = spark.read.parquet(path + '/DMC-Train.parquet')\n",
        "\n",
        "df = df.drop(\"reject_reason_id\")\n",
        "\n",
        "df = df.withColumn(\"review_label\", when(df.review_label == \"accept\",\"true\")\\\n",
        "      .when(df.review_label == \"reject\",\"false\"))"
      ],
      "metadata": {
        "id": "VafQsJ0McoSN"
      },
      "execution_count": null,
      "outputs": []
    },
    {
      "cell_type": "code",
      "source": [
        "df.show()"
      ],
      "metadata": {
        "colab": {
          "base_uri": "https://localhost:8080/"
        },
        "id": "3T3opnhUc0av",
        "outputId": "5d0a0c50-336c-4f42-fd6d-25dbe3275dc8"
      },
      "execution_count": null,
      "outputs": [
        {
          "output_type": "stream",
          "name": "stdout",
          "text": [
            "+--------------------+--------------------+------------+\n",
            "|             post_id|           post_data|review_label|\n",
            "+--------------------+--------------------+------------+\n",
            "|cb000599-2ee2-42c...|{\"body_status\": \"...|        true|\n",
            "|12063741-6634-444...|{\"body_status\": \"...|       false|\n",
            "|81c93119-5c06-412...|{\"body_status\": \"...|        true|\n",
            "|b5a5bfa7-03be-408...|{\"brand\": \"\\u0633...|        true|\n",
            "|3414e920-dfaf-44a...|{\"body_status\": \"...|       false|\n",
            "|10aa8a3b-e465-45c...|{\"body_status\": \"...|       false|\n",
            "|79f05181-ddfd-44b...|{\"body_status\": \"...|        true|\n",
            "|3845f74f-6731-44f...|{\"body_status\": \"...|        true|\n",
            "|6fdbdc90-dc85-49e...|{\"body_status\": \"...|       false|\n",
            "|c8ba52f7-7025-4f8...|{\"body_status\": \"...|        true|\n",
            "|58af8fd6-3ef9-483...|{\"body_status\": \"...|        true|\n",
            "|389f6987-8cb8-48a...|{\"body_status\": \"...|        true|\n",
            "|07e64f4a-9767-435...|{\"brand\": \"\\u067e...|        true|\n",
            "|df968fd4-fb04-427...|{\"body_status\": \"...|        true|\n",
            "|301684eb-b556-482...|{\"body_status\": \"...|        true|\n",
            "|b137d6ff-3fba-4e5...|{\"body_status\": \"...|        true|\n",
            "|fcc111a3-82ff-40c...|{\"brand\": \"\\u067e...|        true|\n",
            "|716d0337-839c-474...|{\"body_status\": \"...|       false|\n",
            "|728014c8-dcda-467...|{\"body_status\": \"...|        true|\n",
            "|12ac0f92-da74-4dd...|{\"body_status\": \"...|        true|\n",
            "+--------------------+--------------------+------------+\n",
            "only showing top 20 rows\n",
            "\n"
          ]
        }
      ]
    },
    {
      "cell_type": "code",
      "source": [
        "df.head()"
      ],
      "metadata": {
        "colab": {
          "base_uri": "https://localhost:8080/"
        },
        "id": "2CK1mnpedy8o",
        "outputId": "53dfac89-c519-4ad8-c852-94660493e202"
      },
      "execution_count": null,
      "outputs": [
        {
          "output_type": "execute_result",
          "data": {
            "text/plain": [
              "Row(post_id='cb000599-2ee2-42c1-9f0e-32cfeb940398', post_data='{\"body_status\": \"witout-color\", \"brand\": \"\\\\u062a\\\\u06cc\\\\u0628\\\\u0627::Tiba\", \"brand_model\": \"Tiba Sedan SX\", \"category\": \"light\", \"color\": \"\\\\u0633\\\\u0641\\\\u06cc\\\\u062f\", \"description\": \"\\\\u0628\\\\u062f\\\\u0648\\\\u0646 \\\\u0631\\\\u0646\\\\u06af\\\\u060c\\\\u06a9\\\\u0645 \\\\u06a9\\\\u0627\\\\u0631\\\\u06a9\\\\u0631\\\\u062f\", \"document\": \"single-sheet\", \"gearbox\": \"manual\", \"new_price\": 103000000, \"post_type\": \"\\\\u0641\\\\u0631\\\\u0648\\\\u0634\\\\u06cc\", \"selling_type\": \"cash\", \"third_party_insurance_deadline\": \"5\", \"title\": \"\\\\u062a\\\\u06cc\\\\u0628\\\\u0627 \\\\u0635\\\\u0646\\\\u062f\\\\u0648\\\\u0642\\\\u200c\\\\u062f\\\\u0627\\\\u0631 SX\\\\u060c \\\\u0645\\\\u062f\\\\u0644 \\\\u06f1\\\\u06f3\\\\u06f9\\\\u06f7\", \"usage\": 23000, \"year\": \"\\\\u06f1\\\\u06f3\\\\u06f9\\\\u06f7\"}', review_label='true')"
            ]
          },
          "metadata": {},
          "execution_count": 6
        }
      ]
    },
    {
      "cell_type": "code",
      "source": [
        "import json\n",
        "newJson = '''{\"body_status\": \"witout-color\", \"brand\": \"\\\\u062a\\\\u06cc\\\\u0628\\\\u0627::Tiba\", \"brand_model\": \"Tiba Sedan SX\", \"category\": \"light\", \"color\": \"\\\\u0633\\\\u0641\\\\u06cc\\\\u062f\", \"description\": \"\\\\u0628\\\\u062f\\\\u0648\\\\u0646 \\\\u0631\\\\u0646\\\\u06af\\\\u060c\\\\u06a9\\\\u0645 \\\\u06a9\\\\u0627\\\\u0631\\\\u06a9\\\\u0631\\\\u062f\", \"document\": \"single-sheet\", \"gearbox\": \"manual\", \"new_price\": 103000000, \"post_type\": \"\\\\u0641\\\\u0631\\\\u0648\\\\u0634\\\\u06cc\", \"selling_type\": \"cash\", \"third_party_insurance_deadline\": \"5\", \"title\": \"\\\\u062a\\\\u06cc\\\\u0628\\\\u0627 \\\\u0635\\\\u0646\\\\u062f\\\\u0648\\\\u0642\\\\u200c\\\\u062f\\\\u0627\\\\u0631 SX\\\\u060c \\\\u0645\\\\u062f\\\\u0644 \\\\u06f1\\\\u06f3\\\\u06f9\\\\u06f7\", \"usage\": 23000, \"year\": \"\\\\u06f1\\\\u06f3\\\\u06f9\\\\u06f7\"}'''\n",
        "pdf = json. loads(newJson)\n",
        "json. loads(newJson)"
      ],
      "metadata": {
        "colab": {
          "base_uri": "https://localhost:8080/"
        },
        "id": "9p6BuGCtjKoM",
        "outputId": "bf1f8c6c-bfcf-4d93-96aa-dd799f4b67ef"
      },
      "execution_count": null,
      "outputs": [
        {
          "output_type": "execute_result",
          "data": {
            "text/plain": [
              "{'body_status': 'witout-color',\n",
              " 'brand': 'تیبا::Tiba',\n",
              " 'brand_model': 'Tiba Sedan SX',\n",
              " 'category': 'light',\n",
              " 'color': 'سفید',\n",
              " 'description': 'بدون رنگ،کم کارکرد',\n",
              " 'document': 'single-sheet',\n",
              " 'gearbox': 'manual',\n",
              " 'new_price': 103000000,\n",
              " 'post_type': 'فروشی',\n",
              " 'selling_type': 'cash',\n",
              " 'third_party_insurance_deadline': '5',\n",
              " 'title': 'تیبا صندوق\\u200cدار SX، مدل ۱۳۹۷',\n",
              " 'usage': 23000,\n",
              " 'year': '۱۳۹۷'}"
            ]
          },
          "metadata": {},
          "execution_count": 7
        }
      ]
    },
    {
      "cell_type": "code",
      "source": [
        "schema = StructType([ \n",
        "    StructField(\"body_status\",StringType(),True), \n",
        "    StructField(\"brand\",StringType(),True), \n",
        "    StructField(\"brand_model\",StringType(),True), \n",
        "    StructField(\"category\",StringType(),True), \n",
        "    StructField(\"color\",StringType(),True), \n",
        "    StructField(\"description\",StringType(),True), \n",
        "    StructField(\"document\",StringType(),True), \n",
        "    StructField(\"gearbox\",StringType(),True), \n",
        "    StructField(\"new_price\",StringType(),True), \n",
        "    StructField(\"post_type\",StringType(),True), \n",
        "    StructField(\"selling_type\",StringType(),True), \n",
        "    StructField(\"third_party_insurance_deadline\",StringType(),True), \n",
        "    StructField(\"title\",StringType(),True), \n",
        "    StructField(\"usage\", StringType(), True),\n",
        "    StructField(\"year\", StringType(), True)\n",
        "  ])\n",
        "\n",
        "df = df.withColumn(\"post_data\", from_json(\"post_data\", schema))\\\n",
        "    .select(col('post_id'),\n",
        "            col('review_label'),\n",
        "            col('post_data.*'))"
      ],
      "metadata": {
        "id": "KPF7zyJ_xjEC"
      },
      "execution_count": null,
      "outputs": []
    },
    {
      "cell_type": "code",
      "source": [
        "df.printSchema()"
      ],
      "metadata": {
        "colab": {
          "base_uri": "https://localhost:8080/"
        },
        "id": "s8-sG1C_qZpC",
        "outputId": "acad00f2-1a95-4b46-8274-2d1ca939d2fb"
      },
      "execution_count": null,
      "outputs": [
        {
          "output_type": "stream",
          "name": "stdout",
          "text": [
            "root\n",
            " |-- post_id: string (nullable = true)\n",
            " |-- review_label: string (nullable = true)\n",
            " |-- body_status: string (nullable = true)\n",
            " |-- brand: string (nullable = true)\n",
            " |-- brand_model: string (nullable = true)\n",
            " |-- category: string (nullable = true)\n",
            " |-- color: string (nullable = true)\n",
            " |-- description: string (nullable = true)\n",
            " |-- document: string (nullable = true)\n",
            " |-- gearbox: string (nullable = true)\n",
            " |-- new_price: string (nullable = true)\n",
            " |-- post_type: string (nullable = true)\n",
            " |-- selling_type: string (nullable = true)\n",
            " |-- third_party_insurance_deadline: string (nullable = true)\n",
            " |-- title: string (nullable = true)\n",
            " |-- usage: string (nullable = true)\n",
            " |-- year: string (nullable = true)\n",
            "\n"
          ]
        }
      ]
    },
    {
      "cell_type": "code",
      "source": [
        "df.select(['third_party_insurance_deadline','usage','review_label','description']).show()"
      ],
      "metadata": {
        "colab": {
          "base_uri": "https://localhost:8080/"
        },
        "id": "iYgfReWYG7NP",
        "outputId": "7bc2cb65-2cb9-4b18-8703-e31d9af7d804"
      },
      "execution_count": null,
      "outputs": [
        {
          "output_type": "stream",
          "name": "stdout",
          "text": [
            "+------------------------------+------+------------+--------------------+\n",
            "|third_party_insurance_deadline| usage|review_label|         description|\n",
            "+------------------------------+------+------------+--------------------+\n",
            "|                             5| 23000|        true|  بدون رنگ،کم کارکرد|\n",
            "|                             1|120000|       false|اسفند 95\\nبیمه بد...|\n",
            "|                             8|  1400|        true|بیمه شخص ثالث،بیم...|\n",
            "|                          null|     0|        true|■نمایندگی رجبی کد...|\n",
            "|                             7|   800|       false|ماشین صفر برج ۹سا...|\n",
            "|                          null|     0|       false|ماشین صفر هست و ت...|\n",
            "|                            12|     0|        true|با سلام پژو207 پا...|\n",
            "|                             1|220000|        true|۳تیکه عقب رنگ کاپ...|\n",
            "|                             4|123456|       false|باسلام \\nموتور هو...|\n",
            "|                             1|   300|        true|ماشین کاملا کم کا...|\n",
            "|                             1| 79000|        true|فروش  111 تمیز دو...|\n",
            "|                          null|310000|        true|وانت مدل ۸۴\\nفنی ...|\n",
            "|                            11| 11111|        true|موتورگیربکس به شر...|\n",
            "|                             9|300000|        true|         ***********|\n",
            "|                            12|130000|        true|۲۰۶تیپ۵ فول مدل۹۴...|\n",
            "|                          null| 86000|        true|موتور پلمپ به شرط...|\n",
            "|                             5| 12000|        true|ماشین سالم وکارمن...|\n",
            "|                            12|    90|       false|سلان وانت مدل ۸۲ ...|\n",
            "|                            10|   300|        true|خودرودو تا گلگیرر...|\n",
            "|                            10| 50000|        true|ماشین کاملا سالم ...|\n",
            "+------------------------------+------+------------+--------------------+\n",
            "only showing top 20 rows\n",
            "\n"
          ]
        }
      ]
    },
    {
      "cell_type": "code",
      "source": [
        "df.show()"
      ],
      "metadata": {
        "colab": {
          "base_uri": "https://localhost:8080/"
        },
        "id": "7tk04t5Yba4D",
        "outputId": "1e455f38-7b9c-4d16-cbf9-73af41121e28"
      },
      "execution_count": null,
      "outputs": [
        {
          "output_type": "stream",
          "name": "stdout",
          "text": [
            "+--------------------+------------+--------------------+--------------------+--------------------+--------+---------+--------------------+--------------+-------+---------+---------+---------------+------------------------------+--------------------+------+----+\n",
            "|             post_id|review_label|         body_status|               brand|         brand_model|category|    color|         description|      document|gearbox|new_price|post_type|   selling_type|third_party_insurance_deadline|               title| usage|year|\n",
            "+--------------------+------------+--------------------+--------------------+--------------------+--------+---------+--------------------+--------------+-------+---------+---------+---------------+------------------------------+--------------------+------+----+\n",
            "|cb000599-2ee2-42c...|        true|        witout-color|          تیبا::Tiba|       Tiba Sedan SX|   light|     سفید|  بدون رنگ،کم کارکرد|  single-sheet| manual|103000000|    فروشی|           cash|                             5|تیبا صندوق‌دار SX...| 23000|۱۳۹۷|\n",
            "|12063741-6634-444...|       false|        witout-color|        لیفان::Lifan|    Lifan X60 manual|   light|     سفید|اسفند 95\\nبیمه بد...|  single-sheet| manual| 26700000|    فروشی|           cash|                             1|لیفان X60 دنده‌ای...|120000|۱۳۹۵|\n",
            "|81c93119-5c06-412...|        true|        witout-color|پژو ۴۰۵::Peugeot 405|     Peugeot 405 SLX|   light|  خاکستری|بیمه شخص ثالث،بیم...|  single-sheet| manual|190000000|    فروشی|           cash|                             8|پژو 405 SLX بنزین...|  1400|۱۳۹۹|\n",
            "|b5a5bfa7-03be-408...|        true|                null|                سایر|   Dena basic 1700cc|   light|سفید صدفی|■نمایندگی رجبی کد...|          null|   null|     null|    فروشی|           null|                          null|دنا DENA معمولی E...|     0|۱۳۹۹|\n",
            "|3414e920-dfaf-44a...|       false|              intact|پژو ۲۰۶‍ صندوق‌دا...|   Peugeot 206 SD V8|   light|     سفید|ماشین صفر برج ۹سا...|  single-sheet| manual|240000000|    فروشی|           cash|                             7|پژو 206 SD V8، مد...|   800|۱۳۹۹|\n",
            "|10aa8a3b-e465-45c...|       false|        witout-color|       نیسان::Nissan|       Nissan Pickup|   light|      آبی|ماشین صفر هست و ت...|  single-sheet|   null|187000000|    فروشی|           cash|                          null|  نیسان تک سوزآپشنال|     0|۱۳۹۲|\n",
            "|79f05181-ddfd-44b...|        true|              intact|پژو ۲۰۷::Peugeot 207| Peugeot 207i manual|   light|     سفید|با سلام پژو207 پا...|  single-sheet| manual|145000000|    فروشی|           cash|                            12|  پژو207 سقف شیشه ای|     0|۱۴۰۰|\n",
            "|3845f74f-6731-44f...|        true|  few-spots-of-color|پژو پارس::Peugeot...|  Peugeot Pars basic|   light|     سفید|۳تیکه عقب رنگ کاپ...|multiple-sheet| manual|110000000|    فروشی|           cash|                             1|پژوپارس ۹۳داشبورد...|220000|۱۳۹۳|\n",
            "|6fdbdc90-dc85-49e...|       false|        witout-color|پژو ۴۰۵::Peugeot 405|Peugeot 405 GLi-B...|   light|   دلفینی|باسلام \\nموتور هو...|  double-sheet| manual|  1234567|    فروشی|cash-instalment|                             4|معاوضه موتور سیکل...|123456|۱۳۸۰|\n",
            "|c8ba52f7-7025-4f8...|        true|        witout-color|پژو ۴۰۵::Peugeot 405|Peugeot 405 GLi-p...|   light|نوک‌مدادی|ماشین کاملا کم کا...|  single-sheet| manual| 75000000|    فروشی|           cash|                             1|پژو 405 GLi بنزین...|   300|۱۳۸۴|\n",
            "|58af8fd6-3ef9-483...|        true|        witout-color| پراید هاچ‌بک::Pride|        Pride 111 SE|   light|     سفید|فروش  111 تمیز دو...|  single-sheet|   null|112000000|    فروشی|           cash|                             1|            فروش 111| 79000|۱۳۹۷|\n",
            "|389f6987-8cb8-48a...|        true|multiple-spots-paint|       پیکان::Peykan|Paykan Pickup Petrol|   light|     سفید|وانت مدل ۸۴\\nفنی ...|  double-sheet| manual| 55000000|    فروشی|           cash|                          null|پیکان وانت بنزینی...|310000|۱۳۸۴|\n",
            "|07e64f4a-9767-435...|        true|                null|پژو ۴۰۵::Peugeot 405|Peugeot 405 GL-pe...|   light|  خاکستری|موتورگیربکس به شر...|          null|   null| 56000000|    فروشی|           null|                            11|پژو 405 GL بنزینی...| 11111|۱۳۸۲|\n",
            "|df968fd4-fb04-427...|        true|          half-paint|                وانت| Zamyad Z 24 Bi-fuel|   light|      آبی|         ***********|  single-sheet| manual| 90000000|    فروشی|           cash|                             9|    نیسان آبی مدل 79|300000|۱۳۷۹|\n",
            "|301684eb-b556-482...|        true|              intact|پژو ۲۰۶‍::Peugeot...|       Peugeot 206 5|   light|     سفید|۲۰۶تیپ۵ فول مدل۹۴...|  single-sheet| manual|173000000|    فروشی|           cash|                            12|۲۰۶تیپ۵مدل۹۴ تک ب...|130000|۱۳۹۴|\n",
            "|b137d6ff-3fba-4e5...|        true|multiple-spots-paint|پژو ۲۰۷::Peugeot 207| Peugeot 207i manual|   light|  خاکستری|موتور پلمپ به شرط...|          null|   null|207000000|    فروشی|           cash|                          null|پژو ۲۰۷ دنده ایی ...| 86000|۱۳۹۷|\n",
            "|fcc111a3-82ff-40c...|        true|                null|پراید صندوق‌دار::...|        Pride 131 SE|   light|     سفید|ماشین سالم وکارمن...|  double-sheet| manual| 96000000|    فروشی|           cash|                             5|پراید131SE، مدل ۱۳۹۸| 12000|۱۳۹۸|\n",
            "|716d0337-839c-474...|       false|          half-paint|       پیکان::Peykan|       Paykan Pickup|   light|      زرد|سلان وانت مدل ۸۲ ...|  single-sheet| manual|100000000|    فروشی|           cash|                            12|ون ایران خودرو، م...|    90|۱۳۸۲|\n",
            "|728014c8-dcda-467...|        true|  two-spots-of-color|پژو ۲۰۶‍::Peugeot...|       Peugeot 206 5|   light|  نقره‌ای|خودرودو تا گلگیرر...|  double-sheet| manual|110000000|    فروشی|           cash|                            10|   خودرو۲۰۶تیپ۵مدل۸۴|   300|۱۳۸۴|\n",
            "|12ac0f92-da74-4dd...|        true|      one-spot-paint|       ام‌وی‌ام::MVM|MVM 315 hatchback...|   light|     سفید|ماشین کاملا سالم ...|  double-sheet| manual|190000000|    فروشی|           cash|                            10|ام‌وی‌ام 315 هاچب...| 50000|۱۳۹۸|\n",
            "+--------------------+------------+--------------------+--------------------+--------------------+--------+---------+--------------------+--------------+-------+---------+---------+---------------+------------------------------+--------------------+------+----+\n",
            "only showing top 20 rows\n",
            "\n"
          ]
        }
      ]
    },
    {
      "cell_type": "markdown",
      "source": [
        "*   NULL values => \"\"\n",
        "*   hazm , parsivar => token , lematizer\n",
        "*   brand document در نظر نگیریم"
      ],
      "metadata": {
        "id": "SEMWR_jQ9FeM"
      }
    },
    {
      "cell_type": "code",
      "source": [
        "from pyspark.sql.functions import isnan, when, count, col\n",
        "\n",
        "df.select([count(when(isnull(c), c)).alias(c) for c in df.columns]).show()"
      ],
      "metadata": {
        "colab": {
          "base_uri": "https://localhost:8080/"
        },
        "id": "HqtZigiu9Bkn",
        "outputId": "42250d86-8c28-4a3c-8069-b7d499a895e4"
      },
      "execution_count": null,
      "outputs": [
        {
          "output_type": "stream",
          "name": "stdout",
          "text": [
            "+-------+------------+-----------+-----+-----------+--------+-----+-----------+--------+-------+---------+---------+------------+------------------------------+-----+-----+----+\n",
            "|post_id|review_label|body_status|brand|brand_model|category|color|description|document|gearbox|new_price|post_type|selling_type|third_party_insurance_deadline|title|usage|year|\n",
            "+-------+------------+-----------+-----+-----------+--------+-----+-----------+--------+-------+---------+---------+------------+------------------------------+-----+-----+----+\n",
            "|      0|           0|     112615|   22|         21|       0|17240|          0|  116604| 112159|   138084|       17|      119768|                        119429|    0|   18|  17|\n",
            "+-------+------------+-----------+-----+-----------+--------+-----+-----------+--------+-------+---------+---------+------------+------------------------------+-----+-----+----+\n",
            "\n"
          ]
        }
      ]
    },
    {
      "cell_type": "code",
      "source": [
        "spark.stop()"
      ],
      "metadata": {
        "id": "MBL26kkUc09y"
      },
      "execution_count": null,
      "outputs": []
    }
  ]
}