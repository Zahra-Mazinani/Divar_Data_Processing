{
  "nbformat": 4,
  "nbformat_minor": 0,
  "metadata": {
    "colab": {
      "name": "DivarFeatureDetection.ipynb",
      "provenance": [],
      "collapsed_sections": []
    },
    "kernelspec": {
      "name": "python3",
      "display_name": "Python 3"
    },
    "language_info": {
      "name": "python"
    }
  },
  "cells": [
    {
      "cell_type": "markdown",
      "source": [
        "# In the name of Allah"
      ],
      "metadata": {
        "id": "g7nBInE4cWhe"
      }
    },
    {
      "cell_type": "code",
      "source": [
        "!pip install pyspark\n",
        "!pip install parsivar"
      ],
      "metadata": {
        "colab": {
          "base_uri": "https://localhost:8080/"
        },
        "id": "IHD0hJbsco_p",
        "outputId": "e2febf3c-7187-4cb7-93b9-7f3f61851e20"
      },
      "execution_count": 28,
      "outputs": [
        {
          "output_type": "stream",
          "name": "stdout",
          "text": [
            "Requirement already satisfied: pyspark in /usr/local/lib/python3.7/dist-packages (3.2.0)\n",
            "Requirement already satisfied: py4j==0.10.9.2 in /usr/local/lib/python3.7/dist-packages (from pyspark) (0.10.9.2)\n",
            "Requirement already satisfied: parsivar in /usr/local/lib/python3.7/dist-packages (0.2.3)\n",
            "Requirement already satisfied: nltk==3.4.5 in /usr/local/lib/python3.7/dist-packages (from parsivar) (3.4.5)\n",
            "Requirement already satisfied: six in /usr/local/lib/python3.7/dist-packages (from nltk==3.4.5->parsivar) (1.15.0)\n"
          ]
        }
      ]
    },
    {
      "cell_type": "code",
      "execution_count": 29,
      "metadata": {
        "id": "CAyRgn2tcLIp"
      },
      "outputs": [],
      "source": [
        "from pyspark.sql import SparkSession\n",
        "from pyspark.sql.functions import *\n",
        "from pyspark.sql.types import StructType,StructField, StringType\n",
        "import pandas as pd\n",
        "import numpy as np"
      ]
    },
    {
      "cell_type": "code",
      "source": [
        "from google.colab import drive\n",
        "drive.mount('/content/drive')\n",
        "!unzip \"/content/drive/MyDrive/Colab Notebooks/Divar/DMC-phase1-DataSets-20211225T055615Z-001.zip\" \n",
        "\n",
        "path = \"/content/DMC-phase1-DataSets\""
      ],
      "metadata": {
        "colab": {
          "base_uri": "https://localhost:8080/"
        },
        "id": "4pBF6hXVcfwv",
        "outputId": "744fab3d-2bf6-450a-a1c0-2bfb0b18280d"
      },
      "execution_count": 30,
      "outputs": [
        {
          "output_type": "stream",
          "name": "stdout",
          "text": [
            "Drive already mounted at /content/drive; to attempt to forcibly remount, call drive.mount(\"/content/drive\", force_remount=True).\n",
            "Archive:  /content/drive/MyDrive/Colab Notebooks/Divar/DMC-phase1-DataSets-20211225T055615Z-001.zip\n",
            "replace DMC-phase1-DataSets/reject_reasons_info.csv? [y]es, [n]o, [A]ll, [N]one, [r]ename: n\n",
            "replace DMC-phase1-DataSets/DMC-Phase1-Validation.parquet? [y]es, [n]o, [A]ll, [N]one, [r]ename: n\n",
            "replace DMC-phase1-DataSets/DMC-Train.parquet? [y]es, [n]o, [A]ll, [N]one, [r]ename: n\n"
          ]
        }
      ]
    },
    {
      "cell_type": "code",
      "source": [
        "spark = SparkSession.builder.appName('Divar').getOrCreate()\n",
        "\n",
        "df = spark.read.parquet(path + '/DMC-Train.parquet')\n",
        "\n",
        "df = df.drop(\"reject_reason_id\")\n",
        "\n",
        "df = df.withColumn(\"review_label\", when(df.review_label == \"accept\",\"true\")\\\n",
        "      .when(df.review_label == \"reject\",\"false\"))"
      ],
      "metadata": {
        "id": "VafQsJ0McoSN"
      },
      "execution_count": 31,
      "outputs": []
    },
    {
      "cell_type": "code",
      "source": [
        "df.show()"
      ],
      "metadata": {
        "colab": {
          "base_uri": "https://localhost:8080/"
        },
        "id": "3T3opnhUc0av",
        "outputId": "32fb9d01-2856-4651-c499-9095c4f5582e"
      },
      "execution_count": null,
      "outputs": [
        {
          "output_type": "stream",
          "name": "stdout",
          "text": [
            "+--------------------+--------------------+------------+\n",
            "|             post_id|           post_data|review_label|\n",
            "+--------------------+--------------------+------------+\n",
            "|cb000599-2ee2-42c...|{\"body_status\": \"...|        true|\n",
            "|12063741-6634-444...|{\"body_status\": \"...|       false|\n",
            "|81c93119-5c06-412...|{\"body_status\": \"...|        true|\n",
            "|b5a5bfa7-03be-408...|{\"brand\": \"\\u0633...|        true|\n",
            "|3414e920-dfaf-44a...|{\"body_status\": \"...|       false|\n",
            "|10aa8a3b-e465-45c...|{\"body_status\": \"...|       false|\n",
            "|79f05181-ddfd-44b...|{\"body_status\": \"...|        true|\n",
            "|3845f74f-6731-44f...|{\"body_status\": \"...|        true|\n",
            "|6fdbdc90-dc85-49e...|{\"body_status\": \"...|       false|\n",
            "|c8ba52f7-7025-4f8...|{\"body_status\": \"...|        true|\n",
            "|58af8fd6-3ef9-483...|{\"body_status\": \"...|        true|\n",
            "|389f6987-8cb8-48a...|{\"body_status\": \"...|        true|\n",
            "|07e64f4a-9767-435...|{\"brand\": \"\\u067e...|        true|\n",
            "|df968fd4-fb04-427...|{\"body_status\": \"...|        true|\n",
            "|301684eb-b556-482...|{\"body_status\": \"...|        true|\n",
            "|b137d6ff-3fba-4e5...|{\"body_status\": \"...|        true|\n",
            "|fcc111a3-82ff-40c...|{\"brand\": \"\\u067e...|        true|\n",
            "|716d0337-839c-474...|{\"body_status\": \"...|       false|\n",
            "|728014c8-dcda-467...|{\"body_status\": \"...|        true|\n",
            "|12ac0f92-da74-4dd...|{\"body_status\": \"...|        true|\n",
            "+--------------------+--------------------+------------+\n",
            "only showing top 20 rows\n",
            "\n"
          ]
        }
      ]
    },
    {
      "cell_type": "code",
      "source": [
        "df.head()"
      ],
      "metadata": {
        "colab": {
          "base_uri": "https://localhost:8080/"
        },
        "id": "2CK1mnpedy8o",
        "outputId": "2716f4cf-756c-48c1-8d52-a4ed0e86d953"
      },
      "execution_count": null,
      "outputs": [
        {
          "output_type": "execute_result",
          "data": {
            "text/plain": [
              "Row(post_id='cb000599-2ee2-42c1-9f0e-32cfeb940398', post_data='{\"body_status\": \"witout-color\", \"brand\": \"\\\\u062a\\\\u06cc\\\\u0628\\\\u0627::Tiba\", \"brand_model\": \"Tiba Sedan SX\", \"category\": \"light\", \"color\": \"\\\\u0633\\\\u0641\\\\u06cc\\\\u062f\", \"description\": \"\\\\u0628\\\\u062f\\\\u0648\\\\u0646 \\\\u0631\\\\u0646\\\\u06af\\\\u060c\\\\u06a9\\\\u0645 \\\\u06a9\\\\u0627\\\\u0631\\\\u06a9\\\\u0631\\\\u062f\", \"document\": \"single-sheet\", \"gearbox\": \"manual\", \"new_price\": 103000000, \"post_type\": \"\\\\u0641\\\\u0631\\\\u0648\\\\u0634\\\\u06cc\", \"selling_type\": \"cash\", \"third_party_insurance_deadline\": \"5\", \"title\": \"\\\\u062a\\\\u06cc\\\\u0628\\\\u0627 \\\\u0635\\\\u0646\\\\u062f\\\\u0648\\\\u0642\\\\u200c\\\\u062f\\\\u0627\\\\u0631 SX\\\\u060c \\\\u0645\\\\u062f\\\\u0644 \\\\u06f1\\\\u06f3\\\\u06f9\\\\u06f7\", \"usage\": 23000, \"year\": \"\\\\u06f1\\\\u06f3\\\\u06f9\\\\u06f7\"}', review_label='true')"
            ]
          },
          "metadata": {},
          "execution_count": 5
        }
      ]
    },
    {
      "cell_type": "code",
      "source": [
        "import json\n",
        "newJson = '''{\"body_status\": \"witout-color\", \"brand\": \"\\\\u062a\\\\u06cc\\\\u0628\\\\u0627::Tiba\", \"brand_model\": \"Tiba Sedan SX\", \"category\": \"light\", \"color\": \"\\\\u0633\\\\u0641\\\\u06cc\\\\u062f\", \"description\": \"\\\\u0628\\\\u062f\\\\u0648\\\\u0646 \\\\u0631\\\\u0646\\\\u06af\\\\u060c\\\\u06a9\\\\u0645 \\\\u06a9\\\\u0627\\\\u0631\\\\u06a9\\\\u0631\\\\u062f\", \"document\": \"single-sheet\", \"gearbox\": \"manual\", \"new_price\": 103000000, \"post_type\": \"\\\\u0641\\\\u0631\\\\u0648\\\\u0634\\\\u06cc\", \"selling_type\": \"cash\", \"third_party_insurance_deadline\": \"5\", \"title\": \"\\\\u062a\\\\u06cc\\\\u0628\\\\u0627 \\\\u0635\\\\u0646\\\\u062f\\\\u0648\\\\u0642\\\\u200c\\\\u062f\\\\u0627\\\\u0631 SX\\\\u060c \\\\u0645\\\\u062f\\\\u0644 \\\\u06f1\\\\u06f3\\\\u06f9\\\\u06f7\", \"usage\": 23000, \"year\": \"\\\\u06f1\\\\u06f3\\\\u06f9\\\\u06f7\"}'''\n",
        "pdf = json. loads(newJson)\n",
        "json. loads(newJson)"
      ],
      "metadata": {
        "colab": {
          "base_uri": "https://localhost:8080/"
        },
        "id": "9p6BuGCtjKoM",
        "outputId": "df7cc2cc-09f3-46a3-b90e-2096f751c642"
      },
      "execution_count": null,
      "outputs": [
        {
          "output_type": "execute_result",
          "data": {
            "text/plain": [
              "{'body_status': 'witout-color',\n",
              " 'brand': 'تیبا::Tiba',\n",
              " 'brand_model': 'Tiba Sedan SX',\n",
              " 'category': 'light',\n",
              " 'color': 'سفید',\n",
              " 'description': 'بدون رنگ،کم کارکرد',\n",
              " 'document': 'single-sheet',\n",
              " 'gearbox': 'manual',\n",
              " 'new_price': 103000000,\n",
              " 'post_type': 'فروشی',\n",
              " 'selling_type': 'cash',\n",
              " 'third_party_insurance_deadline': '5',\n",
              " 'title': 'تیبا صندوق\\u200cدار SX، مدل ۱۳۹۷',\n",
              " 'usage': 23000,\n",
              " 'year': '۱۳۹۷'}"
            ]
          },
          "metadata": {},
          "execution_count": 6
        }
      ]
    },
    {
      "cell_type": "code",
      "source": [
        "schema = StructType([ \n",
        "    StructField(\"body_status\",StringType(),True), \n",
        "    StructField(\"brand\",StringType(),True), \n",
        "    StructField(\"brand_model\",StringType(),True), \n",
        "    StructField(\"category\",StringType(),True), \n",
        "    StructField(\"color\",StringType(),True), \n",
        "    StructField(\"description\",StringType(),True), \n",
        "    StructField(\"document\",StringType(),True), \n",
        "    StructField(\"gearbox\",StringType(),True), \n",
        "    StructField(\"new_price\",StringType(),True), \n",
        "    StructField(\"post_type\",StringType(),True), \n",
        "    StructField(\"selling_type\",StringType(),True), \n",
        "    StructField(\"third_party_insurance_deadline\",StringType(),True), \n",
        "    StructField(\"title\",StringType(),True), \n",
        "    StructField(\"usage\", StringType(), True),\n",
        "    StructField(\"year\", StringType(), True)\n",
        "  ])\n",
        "\n",
        "df = df.withColumn(\"post_data\", from_json(\"post_data\", schema))\\\n",
        "    .select(col('post_id'),\n",
        "            col('review_label'),\n",
        "            col('post_data.*'))"
      ],
      "metadata": {
        "id": "KPF7zyJ_xjEC"
      },
      "execution_count": null,
      "outputs": []
    },
    {
      "cell_type": "code",
      "source": [
        "df.printSchema()"
      ],
      "metadata": {
        "colab": {
          "base_uri": "https://localhost:8080/"
        },
        "id": "s8-sG1C_qZpC",
        "outputId": "31625ffe-b3df-434a-cb79-47b758a73775"
      },
      "execution_count": null,
      "outputs": [
        {
          "output_type": "stream",
          "name": "stdout",
          "text": [
            "root\n",
            " |-- post_id: string (nullable = true)\n",
            " |-- review_label: string (nullable = true)\n",
            " |-- body_status: string (nullable = true)\n",
            " |-- brand: string (nullable = true)\n",
            " |-- brand_model: string (nullable = true)\n",
            " |-- category: string (nullable = true)\n",
            " |-- color: string (nullable = true)\n",
            " |-- description: string (nullable = true)\n",
            " |-- document: string (nullable = true)\n",
            " |-- gearbox: string (nullable = true)\n",
            " |-- new_price: string (nullable = true)\n",
            " |-- post_type: string (nullable = true)\n",
            " |-- selling_type: string (nullable = true)\n",
            " |-- third_party_insurance_deadline: string (nullable = true)\n",
            " |-- title: string (nullable = true)\n",
            " |-- usage: string (nullable = true)\n",
            " |-- year: string (nullable = true)\n",
            "\n"
          ]
        }
      ]
    },
    {
      "cell_type": "code",
      "source": [
        "df = df.drop('brand')\n",
        "df.show()"
      ],
      "metadata": {
        "colab": {
          "base_uri": "https://localhost:8080/"
        },
        "id": "7tk04t5Yba4D",
        "outputId": "d903b475-a1fd-4c78-bffa-78087a330e7e"
      },
      "execution_count": null,
      "outputs": [
        {
          "output_type": "stream",
          "name": "stdout",
          "text": [
            "+--------------------+------------+--------------------+--------------------+--------+---------+--------------------+--------------+-------+---------+---------+---------------+------------------------------+--------------------+------+----+\n",
            "|             post_id|review_label|         body_status|         brand_model|category|    color|         description|      document|gearbox|new_price|post_type|   selling_type|third_party_insurance_deadline|               title| usage|year|\n",
            "+--------------------+------------+--------------------+--------------------+--------+---------+--------------------+--------------+-------+---------+---------+---------------+------------------------------+--------------------+------+----+\n",
            "|cb000599-2ee2-42c...|        true|        witout-color|       Tiba Sedan SX|   light|     سفید|  بدون رنگ،کم کارکرد|  single-sheet| manual|103000000|    فروشی|           cash|                             5|تیبا صندوق‌دار SX...| 23000|۱۳۹۷|\n",
            "|12063741-6634-444...|       false|        witout-color|    Lifan X60 manual|   light|     سفید|اسفند 95\\nبیمه بد...|  single-sheet| manual| 26700000|    فروشی|           cash|                             1|لیفان X60 دنده‌ای...|120000|۱۳۹۵|\n",
            "|81c93119-5c06-412...|        true|        witout-color|     Peugeot 405 SLX|   light|  خاکستری|بیمه شخص ثالث،بیم...|  single-sheet| manual|190000000|    فروشی|           cash|                             8|پژو 405 SLX بنزین...|  1400|۱۳۹۹|\n",
            "|b5a5bfa7-03be-408...|        true|                null|   Dena basic 1700cc|   light|سفید صدفی|■نمایندگی رجبی کد...|          null|   null|     null|    فروشی|           null|                          null|دنا DENA معمولی E...|     0|۱۳۹۹|\n",
            "|3414e920-dfaf-44a...|       false|              intact|   Peugeot 206 SD V8|   light|     سفید|ماشین صفر برج ۹سا...|  single-sheet| manual|240000000|    فروشی|           cash|                             7|پژو 206 SD V8، مد...|   800|۱۳۹۹|\n",
            "|10aa8a3b-e465-45c...|       false|        witout-color|       Nissan Pickup|   light|      آبی|ماشین صفر هست و ت...|  single-sheet|   null|187000000|    فروشی|           cash|                          null|  نیسان تک سوزآپشنال|     0|۱۳۹۲|\n",
            "|79f05181-ddfd-44b...|        true|              intact| Peugeot 207i manual|   light|     سفید|با سلام پژو207 پا...|  single-sheet| manual|145000000|    فروشی|           cash|                            12|  پژو207 سقف شیشه ای|     0|۱۴۰۰|\n",
            "|3845f74f-6731-44f...|        true|  few-spots-of-color|  Peugeot Pars basic|   light|     سفید|۳تیکه عقب رنگ کاپ...|multiple-sheet| manual|110000000|    فروشی|           cash|                             1|پژوپارس ۹۳داشبورد...|220000|۱۳۹۳|\n",
            "|6fdbdc90-dc85-49e...|       false|        witout-color|Peugeot 405 GLi-B...|   light|   دلفینی|باسلام \\nموتور هو...|  double-sheet| manual|  1234567|    فروشی|cash-instalment|                             4|معاوضه موتور سیکل...|123456|۱۳۸۰|\n",
            "|c8ba52f7-7025-4f8...|        true|        witout-color|Peugeot 405 GLi-p...|   light|نوک‌مدادی|ماشین کاملا کم کا...|  single-sheet| manual| 75000000|    فروشی|           cash|                             1|پژو 405 GLi بنزین...|   300|۱۳۸۴|\n",
            "|58af8fd6-3ef9-483...|        true|        witout-color|        Pride 111 SE|   light|     سفید|فروش  111 تمیز دو...|  single-sheet|   null|112000000|    فروشی|           cash|                             1|            فروش 111| 79000|۱۳۹۷|\n",
            "|389f6987-8cb8-48a...|        true|multiple-spots-paint|Paykan Pickup Petrol|   light|     سفید|وانت مدل ۸۴\\nفنی ...|  double-sheet| manual| 55000000|    فروشی|           cash|                          null|پیکان وانت بنزینی...|310000|۱۳۸۴|\n",
            "|07e64f4a-9767-435...|        true|                null|Peugeot 405 GL-pe...|   light|  خاکستری|موتورگیربکس به شر...|          null|   null| 56000000|    فروشی|           null|                            11|پژو 405 GL بنزینی...| 11111|۱۳۸۲|\n",
            "|df968fd4-fb04-427...|        true|          half-paint| Zamyad Z 24 Bi-fuel|   light|      آبی|         ***********|  single-sheet| manual| 90000000|    فروشی|           cash|                             9|    نیسان آبی مدل 79|300000|۱۳۷۹|\n",
            "|301684eb-b556-482...|        true|              intact|       Peugeot 206 5|   light|     سفید|۲۰۶تیپ۵ فول مدل۹۴...|  single-sheet| manual|173000000|    فروشی|           cash|                            12|۲۰۶تیپ۵مدل۹۴ تک ب...|130000|۱۳۹۴|\n",
            "|b137d6ff-3fba-4e5...|        true|multiple-spots-paint| Peugeot 207i manual|   light|  خاکستری|موتور پلمپ به شرط...|          null|   null|207000000|    فروشی|           cash|                          null|پژو ۲۰۷ دنده ایی ...| 86000|۱۳۹۷|\n",
            "|fcc111a3-82ff-40c...|        true|                null|        Pride 131 SE|   light|     سفید|ماشین سالم وکارمن...|  double-sheet| manual| 96000000|    فروشی|           cash|                             5|پراید131SE، مدل ۱۳۹۸| 12000|۱۳۹۸|\n",
            "|716d0337-839c-474...|       false|          half-paint|       Paykan Pickup|   light|      زرد|سلان وانت مدل ۸۲ ...|  single-sheet| manual|100000000|    فروشی|           cash|                            12|ون ایران خودرو، م...|    90|۱۳۸۲|\n",
            "|728014c8-dcda-467...|        true|  two-spots-of-color|       Peugeot 206 5|   light|  نقره‌ای|خودرودو تا گلگیرر...|  double-sheet| manual|110000000|    فروشی|           cash|                            10|   خودرو۲۰۶تیپ۵مدل۸۴|   300|۱۳۸۴|\n",
            "|12ac0f92-da74-4dd...|        true|      one-spot-paint|MVM 315 hatchback...|   light|     سفید|ماشین کاملا سالم ...|  double-sheet| manual|190000000|    فروشی|           cash|                            10|ام‌وی‌ام 315 هاچب...| 50000|۱۳۹۸|\n",
            "+--------------------+------------+--------------------+--------------------+--------+---------+--------------------+--------------+-------+---------+---------+---------------+------------------------------+--------------------+------+----+\n",
            "only showing top 20 rows\n",
            "\n"
          ]
        }
      ]
    },
    {
      "cell_type": "code",
      "source": [
        "### First code about counting null values and second is about see which column that you want ###\n",
        "\n",
        "# df.select([count(when(isnull(c), c)).alias(c) for c in df.columns]).show() \n",
        "# df.select(['third_party_insurance_deadline','usage','review_label','description']).show()  \n",
        "# df.na.fill('',['color']).show()"
      ],
      "metadata": {
        "id": "HqtZigiu9Bkn"
      },
      "execution_count": null,
      "outputs": []
    },
    {
      "cell_type": "markdown",
      "source": [
        "# Text proccecing"
      ],
      "metadata": {
        "id": "w4Jeoy1eh4DG"
      }
    },
    {
      "cell_type": "markdown",
      "source": [
        "## Utils"
      ],
      "metadata": {
        "id": "EOc_utCkjSiq"
      }
    },
    {
      "cell_type": "code",
      "source": [
        "from __future__ import unicode_literals\n",
        "\n",
        "import collections\n",
        "import gc\n",
        "import json\n",
        "import re\n",
        "import os\n",
        "\n",
        "import numpy as np\n",
        "import pandas as pd\n",
        "import parsivar\n",
        "from sklearn.feature_extraction.text import TfidfVectorizer\n",
        "from tqdm import tqdm"
      ],
      "metadata": {
        "id": "PB8jffpNZyrb"
      },
      "execution_count": null,
      "outputs": []
    },
    {
      "cell_type": "code",
      "source": [
        "def read_json(path, n_lines_to_read=None):\n",
        "    \"\"\"\n",
        "    read json file line by line iteratively (generator function).\n",
        "    use this function to read json files when you have memory limitations.\n",
        "    \"\"\"\n",
        "\n",
        "    with open(path) as f:\n",
        "        for i, line in enumerate(tqdm(f)):\n",
        "            if n_lines_to_read == i:\n",
        "                break\n",
        "            yield json.loads(line)"
      ],
      "metadata": {
        "id": "3NV5nVphiuol"
      },
      "execution_count": null,
      "outputs": []
    },
    {
      "cell_type": "code",
      "metadata": {
        "id": "IJaXJnDkK6dR"
      },
      "source": [
        "parsivar_normalizer = parsivar.Normalizer(statistical_space_correction=True)\n",
        "\n",
        "char_mappings = {\n",
        "    \"٥\": \"5\",\n",
        "    \"А\": \"a\",\n",
        "    \"В\": \"b\",\n",
        "    \"Е\": \"e\",\n",
        "    \"Н\": \"h\",\n",
        "    \"Р\": \"P\",\n",
        "    \"С\": \"C\",\n",
        "    \"Т\": \"T\",\n",
        "    \"а\": \"a\",\n",
        "    \"г\": \"r\",\n",
        "    \"е\": \"e\",\n",
        "    \"к\": \"k\",\n",
        "    \"м\": \"m\",\n",
        "    \"о\": \"o\",\n",
        "    \"р\": \"p\",\n",
        "    \"ڈ\": \"د\",\n",
        "    \"ڇ\": \"چ\",\n",
        "    # Persian numbers (will be raplaced by english one)\n",
        "    \"۰\": \"0\",\n",
        "    \"۱\": \"1\",\n",
        "    \"۲\": \"2\",\n",
        "    \"۳\": \"3\",\n",
        "    \"۴\": \"4\",\n",
        "    \"۵\": \"5\",\n",
        "    \"۶\": \"6\",\n",
        "    \"۷\": \"7\",\n",
        "    \"۸\": \"8\",\n",
        "    \"۹\": \"9\",\n",
        "    \".\": \".\",\n",
        "    # Arabic numbers (will be raplaced by english one)\n",
        "    \"٠\": \"0\",\n",
        "    \"١\": \"1\",\n",
        "    \"٢\": \"2\",\n",
        "    \"٣\": \"3\",\n",
        "    \"٤\": \"4\",\n",
        "    \"٥\": \"5\",\n",
        "    \"٦\": \"6\",\n",
        "    \"٧\": \"7\",\n",
        "    \"٨\": \"8\",\n",
        "    \"٩\": \"9\",\n",
        "    # Special Arabic Characters (will be replaced by persian one)\n",
        "    \"ك\": \"ک\",\n",
        "    \"ى\": \"ی\",\n",
        "    \"ي\": \"ی\",\n",
        "    \"ؤ\": \"و\",\n",
        "    \"ئ\": \"ی\",\n",
        "    \"إ\": \"ا\",\n",
        "    \"أ\": \"ا\",\n",
        "    \"آ\": \"ا\",\n",
        "    \"ة\": \"ه\",\n",
        "    \"ء\": \"ی\",\n",
        "    # French alphabet (will be raplaced by english one)\n",
        "    \"à\": \"a\",\n",
        "    \"ä\": \"a\",\n",
        "    \"ç\": \"c\",\n",
        "    \"é\": \"e\",\n",
        "    \"è\": \"e\",\n",
        "    \"ê\": \"e\",\n",
        "    \"ë\": \"e\",\n",
        "    \"î\": \"i\",\n",
        "    \"ï\": \"i\",\n",
        "    \"ô\": \"o\",\n",
        "    \"ù\": \"u\",\n",
        "    \"û\": \"u\",\n",
        "    \"ü\": \"u\",\n",
        "    # Camma (will be replace by dots for floating point numbers)\n",
        "    \",\": \".\",\n",
        "    # And (will be replace by dots for floating point numbers)\n",
        "    \"&\": \" and \",\n",
        "    # Vowels (will be removed)\n",
        "    \"ّ\": \"\",  # tashdid\n",
        "    \"َ\": \"\",  # a\n",
        "    \"ِ\": \"\",  # e\n",
        "    \"ُ\": \"\",  # o\n",
        "    \"ـ\": \"\",  # tatvil\n",
        "    # Spaces\n",
        "    \"‍\": \"\",  # 0x9E -> ZERO WIDTH JOINER\n",
        "    \"‌\": \" \",  # 0x9D -> ZERO WIDTH NON-JOINER\n",
        "    # Arabic Presentation Forms-A (will be replaced by persian one)\n",
        "    \"ﭐ\": \"ا\",\n",
        "    \"ﭑ\": \"ا\",\n",
        "    \"ﭖ\": \"پ\",\n",
        "    \"ﭗ\": \"پ\",\n",
        "    \"ﭘ\": \"پ\",\n",
        "    \"ﭙ\": \"پ\",\n",
        "    \"ﭞ\": \"ت\",\n",
        "    \"ﭟ\": \"ت\",\n",
        "    \"ﭠ\": \"ت\",\n",
        "    \"ﭡ\": \"ت\",\n",
        "    \"ﭺ\": \"چ\",\n",
        "    \"ﭻ\": \"چ\",\n",
        "    \"ﭼ\": \"چ\",\n",
        "    \"ﭽ\": \"چ\",\n",
        "    \"ﮊ\": \"ژ\",\n",
        "    \"ﮋ\": \"ژ\",\n",
        "    \"ﮎ\": \"ک\",\n",
        "    \"ﮏ\": \"ک\",\n",
        "    \"ﮐ\": \"ک\",\n",
        "    \"ﮑ\": \"ک\",\n",
        "    \"ﮒ\": \"گ\",\n",
        "    \"ﮓ\": \"گ\",\n",
        "    \"ﮔ\": \"گ\",\n",
        "    \"ﮕ\": \"گ\",\n",
        "    \"ﮤ\": \"ه\",\n",
        "    \"ﮥ\": \"ه\",\n",
        "    \"ﮦ\": \"ه\",\n",
        "    \"ﮪ\": \"ه\",\n",
        "    \"ﮫ\": \"ه\",\n",
        "    \"ﮬ\": \"ه\",\n",
        "    \"ﮭ\": \"ه\",\n",
        "    \"ﮮ\": \"ی\",\n",
        "    \"ﮯ\": \"ی\",\n",
        "    \"ﮰ\": \"ی\",\n",
        "    \"ﮱ\": \"ی\",\n",
        "    \"ﯼ\": \"ی\",\n",
        "    \"ﯽ\": \"ی\",\n",
        "    \"ﯾ\": \"ی\",\n",
        "    \"ﯿ\": \"ی\",\n",
        "    # Arabic Presentation Forms-B (will be removed)\n",
        "    \"ﹰ\": \"\",\n",
        "    \"ﹱ\": \"\",\n",
        "    \"ﹲ\": \"\",\n",
        "    \"ﹳ\": \"\",\n",
        "    \"ﹴ\": \"\",\n",
        "    \"﹵\": \"\",\n",
        "    \"ﹶ\": \"\",\n",
        "    \"ﹷ\": \"\",\n",
        "    \"ﹸ\": \"\",\n",
        "    \"ﹹ\": \"\",\n",
        "    \"ﹺ\": \"\",\n",
        "    \"ﹻ\": \"\",\n",
        "    \"ﹼ\": \"\",\n",
        "    \"ﹽ\": \"\",\n",
        "    \"ﹾ\": \"\",\n",
        "    \"ﹿ\": \"\",\n",
        "    # Arabic Presentation Forms-B (will be replaced by persian one)\n",
        "    \"ﺀ\": \"ی\",\n",
        "    \"ﺁ\": \"ا\",\n",
        "    \"ﺂ\": \"ا\",\n",
        "    \"ﺃ\": \"ا\",\n",
        "    \"ﺄ\": \"ا\",\n",
        "    \"ﺅ\": \"و\",\n",
        "    \"ﺆ\": \"و\",\n",
        "    \"ﺇ\": \"ا\",\n",
        "    \"ﺈ\": \"ا\",\n",
        "    \"ﺉ\": \"ی\",\n",
        "    \"ﺊ\": \"ی\",\n",
        "    \"ﺋ\": \"ی\",\n",
        "    \"ﺌ\": \"ی\",\n",
        "    \"ﺍ\": \"ا\",\n",
        "    \"ﺎ\": \"ا\",\n",
        "    \"ﺏ\": \"ب\",\n",
        "    \"ﺐ\": \"ب\",\n",
        "    \"ﺑ\": \"ب\",\n",
        "    \"ﺒ\": \"ب\",\n",
        "    \"ﺓ\": \"ه\",\n",
        "    \"ﺔ\": \"ه\",\n",
        "    \"ﺕ\": \"ت\",\n",
        "    \"ﺖ\": \"ت\",\n",
        "    \"ﺗ\": \"ت\",\n",
        "    \"ﺘ\": \"ت\",\n",
        "    \"ﺙ\": \"ث\",\n",
        "    \"ﺚ\": \"ث\",\n",
        "    \"ﺛ\": \"ث\",\n",
        "    \"ﺜ\": \"ث\",\n",
        "    \"ﺝ\": \"ج\",\n",
        "    \"ﺞ\": \"ج\",\n",
        "    \"ﺟ\": \"ج\",\n",
        "    \"ﺠ\": \"ج\",\n",
        "    \"ﺡ\": \"ح\",\n",
        "    \"ﺢ\": \"ح\",\n",
        "    \"ﺣ\": \"ح\",\n",
        "    \"ﺤ\": \"ح\",\n",
        "    \"ﺥ\": \"خ\",\n",
        "    \"ﺦ\": \"خ\",\n",
        "    \"ﺧ\": \"خ\",\n",
        "    \"ﺨ\": \"خ\",\n",
        "    \"ﺩ\": \"د\",\n",
        "    \"ﺪ\": \"د\",\n",
        "    \"ﺫ\": \"ذ\",\n",
        "    \"ﺬ\": \"ذ\",\n",
        "    \"ﺭ\": \"ر\",\n",
        "    \"ﺮ\": \"ر\",\n",
        "    \"ﺯ\": \"ز\",\n",
        "    \"ﺰ\": \"ز\",\n",
        "    \"ﺱ\": \"س\",\n",
        "    \"ﺲ\": \"س\",\n",
        "    \"ﺳ\": \"س\",\n",
        "    \"ﺴ\": \"س\",\n",
        "    \"ﺵ\": \"ش\",\n",
        "    \"ﺶ\": \"ش\",\n",
        "    \"ﺷ\": \"ش\",\n",
        "    \"ﺸ\": \"ش\",\n",
        "    \"ﺹ\": \"ص\",\n",
        "    \"ﺺ\": \"ص\",\n",
        "    \"ﺻ\": \"ص\",\n",
        "    \"ﺼ\": \"ص\",\n",
        "    \"ﺽ\": \"ض\",\n",
        "    \"ﺾ\": \"ض\",\n",
        "    \"ﺿ\": \"ض\",\n",
        "    \"ﻀ\": \"ض\",\n",
        "    \"ﻁ\": \"ط\",\n",
        "    \"ﻂ\": \"ط\",\n",
        "    \"ﻃ\": \"ط\",\n",
        "    \"ﻄ\": \"ط\",\n",
        "    \"ﻅ\": \"ظ\",\n",
        "    \"ﻆ\": \"ظ\",\n",
        "    \"ﻇ\": \"ظ\",\n",
        "    \"ﻈ\": \"ظ\",\n",
        "    \"ﻉ\": \"ع\",\n",
        "    \"ﻊ\": \"ع\",\n",
        "    \"ﻋ\": \"ع\",\n",
        "    \"ﻌ\": \"ع\",\n",
        "    \"ﻍ\": \"غ\",\n",
        "    \"ﻎ\": \"غ\",\n",
        "    \"ﻏ\": \"غ\",\n",
        "    \"ﻐ\": \"غ\",\n",
        "    \"ﻑ\": \"ف\",\n",
        "    \"ﻒ\": \"ف\",\n",
        "    \"ﻓ\": \"ف\",\n",
        "    \"ﻔ\": \"ف\",\n",
        "    \"ﻕ\": \"ق\",\n",
        "    \"ﻖ\": \"ق\",\n",
        "    \"ﻗ\": \"ق\",\n",
        "    \"ﻘ\": \"ق\",\n",
        "    \"ﻙ\": \"ک\",\n",
        "    \"ﻚ\": \"ک\",\n",
        "    \"ﻛ\": \"ک\",\n",
        "    \"ﻜ\": \"ک\",\n",
        "    \"ﻝ\": \"ل\",\n",
        "    \"ﻞ\": \"ل\",\n",
        "    \"ﻟ\": \"ل\",\n",
        "    \"ﻠ\": \"ل\",\n",
        "    \"ﻡ\": \"م\",\n",
        "    \"ﻢ\": \"م\",\n",
        "    \"ﻣ\": \"م\",\n",
        "    \"ﻤ\": \"م\",\n",
        "    \"ﻥ\": \"ن\",\n",
        "    \"ﻦ\": \"ن\",\n",
        "    \"ﻧ\": \"ن\",\n",
        "    \"ﻨ\": \"ن\",\n",
        "    \"ﻩ\": \"ه\",\n",
        "    \"ﻪ\": \"ه\",\n",
        "    \"ﻫ\": \"ه\",\n",
        "    \"ﻬ\": \"ه\",\n",
        "    \"ﻭ\": \"و\",\n",
        "    \"ﻮ\": \"و\",\n",
        "    \"ﻯ\": \"ی\",\n",
        "    \"ﻰ\": \"ی\",\n",
        "    \"ﻱ\": \"ی\",\n",
        "    \"ﻲ\": \"ی\",\n",
        "    \"ﻳ\": \"ی\",\n",
        "    \"ﻴ\": \"ی\",\n",
        "    \"ﻵ\": \"لا\",\n",
        "    \"ﻶ\": \"لا\",\n",
        "    \"ﻷ\": \"لا\",\n",
        "    \"ﻸ\": \"لا\",\n",
        "    \"ﻹ\": \"لا\",\n",
        "    \"ﻺ\": \"لا\",\n",
        "    \"ﻻ\": \"لا\",\n",
        "    \"ﻼ\": \"لا\",\n",
        "}\n",
        "\n",
        "valid_chars = [\n",
        "    \" \",\n",
        "    \"0\",\n",
        "    \"1\",\n",
        "    \"2\",\n",
        "    \"3\",\n",
        "    \"4\",\n",
        "    \"5\",\n",
        "    \"6\",\n",
        "    \"7\",\n",
        "    \"8\",\n",
        "    \"9\",\n",
        "    \"A\",\n",
        "    \"B\",\n",
        "    \"C\",\n",
        "    \"D\",\n",
        "    \"E\",\n",
        "    \"F\",\n",
        "    \"G\",\n",
        "    \"H\",\n",
        "    \"I\",\n",
        "    \"J\",\n",
        "    \"K\",\n",
        "    \"L\",\n",
        "    \"M\",\n",
        "    \"N\",\n",
        "    \"O\",\n",
        "    \"P\",\n",
        "    \"Q\",\n",
        "    \"R\",\n",
        "    \"S\",\n",
        "    \"T\",\n",
        "    \"U\",\n",
        "    \"V\",\n",
        "    \"W\",\n",
        "    \"X\",\n",
        "    \"Y\",\n",
        "    \"Z\",\n",
        "    \"a\",\n",
        "    \"b\",\n",
        "    \"c\",\n",
        "    \"d\",\n",
        "    \"e\",\n",
        "    \"f\",\n",
        "    \"g\",\n",
        "    \"h\",\n",
        "    \"i\",\n",
        "    \"j\",\n",
        "    \"k\",\n",
        "    \"l\",\n",
        "    \"m\",\n",
        "    \"n\",\n",
        "    \"o\",\n",
        "    \"p\",\n",
        "    \"q\",\n",
        "    \"r\",\n",
        "    \"s\",\n",
        "    \"t\",\n",
        "    \"u\",\n",
        "    \"v\",\n",
        "    \"w\",\n",
        "    \"x\",\n",
        "    \"y\",\n",
        "    \"z\",\n",
        "    \"آ\",\n",
        "    \"ئ\",\n",
        "    \"ا\",\n",
        "    \"ب\",\n",
        "    \"ت\",\n",
        "    \"ث\",\n",
        "    \"ج\",\n",
        "    \"ح\",\n",
        "    \"خ\",\n",
        "    \"د\",\n",
        "    \"ذ\",\n",
        "    \"ر\",\n",
        "    \"ز\",\n",
        "    \"س\",\n",
        "    \"ش\",\n",
        "    \"ص\",\n",
        "    \"ض\",\n",
        "    \"ط\",\n",
        "    \"ظ\",\n",
        "    \"ع\",\n",
        "    \"غ\",\n",
        "    \"ف\",\n",
        "    \"ق\",\n",
        "    \"ل\",\n",
        "    \"م\",\n",
        "    \"ن\",\n",
        "    \"ه\",\n",
        "    \"و\",\n",
        "    \"پ\",\n",
        "    \"چ\",\n",
        "    \"ژ\",\n",
        "    \"ک\",\n",
        "    \"گ\",\n",
        "    \"ی\",\n",
        "]\n",
        "\n",
        "\n",
        "def _replace_rep(t):\n",
        "    \"Replace repetitions at the character level: ccc -> c\"\n",
        "\n",
        "    def __replace_rep(m):\n",
        "        c, cc = m.groups()\n",
        "        return f\"{c}\"\n",
        "\n",
        "    re_rep = re.compile(r\"(\\S)(\\1{2,})\")\n",
        "    return re_rep.sub(__replace_rep, t)\n",
        "\n",
        "\n",
        "def _replace_wrep(t):\n",
        "    \"Replace word repetitions: word word word -> word\"\n",
        "\n",
        "    def __replace_wrep(m):\n",
        "        c, cc = m.groups()\n",
        "        return f\"{c}\"\n",
        "\n",
        "    re_wrep = re.compile(r\"(\\b\\w+\\W+)(\\1{2,})\")\n",
        "    return re_wrep.sub(__replace_wrep, t)\n",
        "\n",
        "\n",
        "def _normalize_text(x):\n",
        "    \"\"\"normalize a sentence\"\"\"\n",
        "\n",
        "    x = str(x)\n",
        "    x = parsivar_normalizer.normalize(x)  # apply `parsivar` normalizations\n",
        "    x = re.sub(r\"[\\u200c\\r\\n]\", \" \", x)  # remove half space and new line characters\n",
        "    x = x.lower()\n",
        "    x = \"\".join(\n",
        "        [char_mappings[xx] if xx in char_mappings else xx for xx in x]\n",
        "    )  # substitue bad characters with appropriate ones\n",
        "    x = re.sub(\n",
        "        r\"[^{}]\".format(\"\".join(valid_chars)), \" \", x\n",
        "    )  # just keep valid characters and substitue others with space\n",
        "    x = re.sub(r\"[a-z]+\", r\" \\g<0> \", x)  # put space around words and numbers\n",
        "    x = re.sub(r\"[0-9]+\", r\" \\g<0> \", x)  # put space around words and numbers\n",
        "    x = re.sub(r\"\\s+\", \" \", x)  # remove more than one white spaces with space\n",
        "    x = _replace_rep(x)\n",
        "    x = _replace_wrep(x)\n",
        "    return x.strip()\n",
        "\n",
        "\n",
        "def normalize_texts(X, use_tqdm=False):\n",
        "    \"\"\"normalize list of sentences\"\"\"\n",
        "\n",
        "    if use_tqdm:\n",
        "        X = [_normalize_text(x) for x in tqdm(X)]\n",
        "    else:\n",
        "        X = [_normalize_text(x) for x in X]\n",
        "    return X"
      ],
      "execution_count": null,
      "outputs": []
    },
    {
      "cell_type": "code",
      "source": [
        "class JSONListWriter:\n",
        "    \"\"\"\n",
        "    auxilary class to write list of dictionaries into json file.\n",
        "    each item in one line.\n",
        "    \"\"\"\n",
        "\n",
        "    def __init__(self, file_path):\n",
        "        self.fd = None\n",
        "        self.file_path = file_path\n",
        "        self.delimiter = \"\\n\"\n",
        "\n",
        "    def open(self):\n",
        "        self.fd = open(self.file_path, \"w\")\n",
        "        self.first_item_written = False\n",
        "        return self\n",
        "\n",
        "    def close(self):\n",
        "        self.fd.close()\n",
        "        self.fd = None\n",
        "\n",
        "    def write_item(self, obj):\n",
        "        if self.first_item_written:\n",
        "            self.fd.write(self.delimiter)\n",
        "        self.fd.write(json.dumps(obj))\n",
        "        self.first_item_written = True\n",
        "\n",
        "    def __enter__(self):\n",
        "        return self.open()\n",
        "\n",
        "    def __exit__(self, type, value, traceback):\n",
        "        self.close()"
      ],
      "metadata": {
        "id": "3Ffo-S5ajK9N"
      },
      "execution_count": null,
      "outputs": []
    },
    {
      "cell_type": "markdown",
      "source": [
        "## Preprocess"
      ],
      "metadata": {
        "id": "8HtIyrDGjba6"
      }
    },
    {
      "cell_type": "code",
      "source": [
        ""
      ],
      "metadata": {
        "id": "WvbT4yDzjlHR"
      },
      "execution_count": null,
      "outputs": []
    },
    {
      "cell_type": "code",
      "source": [
        "spark.stop()"
      ],
      "metadata": {
        "id": "MBL26kkUc09y"
      },
      "execution_count": 32,
      "outputs": []
    }
  ]
}